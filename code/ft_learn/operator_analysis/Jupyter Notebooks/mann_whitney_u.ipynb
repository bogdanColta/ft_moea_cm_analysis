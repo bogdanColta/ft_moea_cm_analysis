{
 "cells": [
  {
   "cell_type": "code",
   "execution_count": 1,
   "metadata": {},
   "outputs": [],
   "source": [
    "import numpy as np\n",
    "import pandas as pd\n",
    "import scipy.stats as stats\n",
    "import os"
   ]
  },
  {
   "cell_type": "markdown",
   "metadata": {},
   "source": [
    "Mann Whytney U test for survival rates per generations"
   ]
  },
  {
   "cell_type": "code",
   "execution_count": 2,
   "metadata": {},
   "outputs": [],
   "source": [
    "def survival_rate(df):\n",
    "    generations = df['Generation'].unique()\n",
    "    generations.sort()    \n",
    "    operator_survival_rate = {}\n",
    "    \n",
    "    for operator in df['Operator'].unique():\n",
    "        y = []\n",
    "        subset = df[df['Operator'] == operator]\n",
    "        for i in range(len(generations)):\n",
    "            subset_generation = subset[subset['Generation'] == i]\n",
    "            y.append(len(subset_generation[subset_generation['Passed'] == 1])/400)\n",
    "            operator_survival_rate[operator] = y\n",
    "       \n",
    "    operator_survival_df = pd.DataFrame(operator_survival_rate)\n",
    "    operators = list(operator_survival_rate.keys())\n",
    "    comparison_results = []\n",
    "        \n",
    "    for i in range(len(operators)):\n",
    "        for j in range(i + 1, len(operators)):\n",
    "            op1, op2 = operators[i], operators[j]\n",
    "            stat, p = compare_operators(operator_survival_df, op1, op2)\n",
    "            comparison_results.append((op1, op2, p))\n",
    "\n",
    "    comparison_results_df = pd.DataFrame(comparison_results, columns=[\"Operator1\", \"Operator2\", \"p-value\"])\n",
    "\n",
    "    significance_level = 0.05\n",
    "    comparison_results_df['Significant'] = comparison_results_df['p-value'] < significance_level\n",
    "    results = comparison_results_df[comparison_results_df['Significant'] == True]\n",
    "    \n",
    "    points = {x:0 for x in operators}\n",
    "    \n",
    "    for index, row in results.iterrows():\n",
    "        operator1 = row['Operator1']\n",
    "        operator2 = row['Operator2']\n",
    "        \n",
    "        points[operator1] += np.mean(operator_survival_rate[operator1]) - np.mean(operator_survival_rate[operator2])\n",
    "        points[operator2] += np.mean(operator_survival_rate[operator2]) - np.mean(operator_survival_rate[operator1])\n",
    "        \n",
    "    return points\n",
    "    \n",
    "def compare_operators(df, operator1, operator2):\n",
    "    data1 = df[operator1].dropna()\n",
    "    data2 = df[operator2].dropna()\n",
    "    stat, p = stats.mannwhitneyu(data1, data2, alternative='two-sided')\n",
    "    return stat, p\n"
   ]
  },
  {
   "cell_type": "markdown",
   "metadata": {},
   "source": [
    "In order to print the results, we need to run the following code:"
   ]
  },
  {
   "cell_type": "code",
   "execution_count": 3,
   "metadata": {},
   "outputs": [
    {
     "name": "stdout",
     "output_type": "stream",
     "text": [
      "                      Mean  Lower Bound  Upper Bound\n",
      "disconnect_be     0.409423     0.386036     0.432809\n",
      "delete_be         0.194926     0.149051     0.240801\n",
      "cross_over        0.089725     0.071552     0.107899\n",
      "create_be         0.072999     0.032185     0.113814\n",
      "delete_gate       0.029146    -0.008410     0.066703\n",
      "move_be          -0.076216    -0.107476    -0.044957\n",
      "connect_be       -0.214841    -0.233957    -0.195725\n",
      "create_gate      -0.237405    -0.245444    -0.229367\n",
      "change_gate_type -0.267757    -0.289138    -0.246376\n"
     ]
    }
   ],
   "source": [
    "\n",
    "# Write the folder with the dataframes. \n",
    "# The dataframes should be in the format of the ones saved by the learn_ft.py script\n",
    "# This code will calculate the mean and confidence interval of the scores by using all the dataframes in the folder.\n",
    "# The default folder, where the required data frames for this test are saved, is: saved_data_frames/difference\n",
    "folder_path = '..\\\\saved_data_frames\\\\difference\\\\COVID_19'\n",
    "\n",
    "file_list = os.listdir(folder_path)\n",
    "all_scores = []\n",
    "filename = os.path.basename(os.path.normpath(folder_path))\n",
    "\n",
    "for file_name in file_list:\n",
    "    if file_name.endswith('.pkl'):\n",
    "        file_path = os.path.join(folder_path, file_name)\n",
    "        df = pd.read_pickle(file_path)\n",
    "        all_scores.append(survival_rate(df))\n",
    "\n",
    "    \n",
    "agg_scores = {x : [] for x in all_scores[0].keys()}\n",
    "        \n",
    "for operator in all_scores[0].keys():\n",
    "    for score in all_scores:\n",
    "        agg_scores[operator].append(score[operator])\n",
    "        \n",
    "result = {}\n",
    "for operator in agg_scores.keys():\n",
    "    values = agg_scores[operator]\n",
    "    mean = np.mean(values)\n",
    "    \n",
    "    std_dev = np.std(values)\n",
    "\n",
    "    z_score = stats.norm.ppf(0.975)\n",
    "    n = len(values)\n",
    "    margin_of_error = z_score * (std_dev / np.sqrt(n))\n",
    "\n",
    "    lower_bound = mean - margin_of_error\n",
    "    upper_bound = mean + margin_of_error\n",
    "    \n",
    "    result[operator] = [mean, lower_bound, upper_bound]\n",
    "\n",
    "df = pd.DataFrame.from_dict(result, orient = 'index', columns =['Mean', 'Lower Bound', 'Upper Bound'])\n",
    "df = df.sort_values(by='Mean', ascending=False)\n",
    "print(df)     \n"
   ]
  }
 ],
 "metadata": {
  "kernelspec": {
   "display_name": "Python 3",
   "language": "python",
   "name": "python3"
  },
  "language_info": {
   "codemirror_mode": {
    "name": "ipython",
    "version": 3
   },
   "file_extension": ".py",
   "mimetype": "text/x-python",
   "name": "python",
   "nbconvert_exporter": "python",
   "pygments_lexer": "ipython3",
   "version": "3.12.0"
  }
 },
 "nbformat": 4,
 "nbformat_minor": 2
}
