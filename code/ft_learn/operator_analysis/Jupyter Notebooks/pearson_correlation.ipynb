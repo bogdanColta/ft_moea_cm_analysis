{
 "cells": [
  {
   "cell_type": "code",
   "execution_count": 8,
   "metadata": {},
   "outputs": [],
   "source": [
    "import numpy as np\n",
    "import pandas as pd\n",
    "import os\n",
    "from collections import Counter \n",
    "from collections import Counter "
   ]
  },
  {
   "cell_type": "markdown",
   "metadata": {},
   "source": [
    "Calculate the Pearson coefficient for the D- and P- datasets"
   ]
  },
  {
   "cell_type": "code",
   "execution_count": 4,
   "metadata": {},
   "outputs": [],
   "source": [
    "def coefficient(d, p):\n",
    "    operator_columns = [\"connect_be\", \"move_be\", \"create_gate\", \"delete_gate\", \"disconnect_be\", \"cross_over\", \"delete_be\", \"change_gate_type\", \"create_be\"]\n",
    "    operator_counts_list = []\n",
    "\n",
    "    for _, row in d.iterrows():\n",
    "        tree = row['Tree']\n",
    "        evolutions = row['Evolution']\n",
    "        \n",
    "        operator_counts = Counter()\n",
    "        for evolution in evolutions:\n",
    "            operators = evolution[2]\n",
    "            operator_counts.update(operators)\n",
    "        \n",
    "        operator_counts_dict = {op: operator_counts.get(op, 0) for op in operator_columns}\n",
    "        operator_counts_dict['Tree'] = tree\n",
    "        operator_counts_list.append(operator_counts_dict)\n",
    "        \n",
    "    operator_counts_df = pd.DataFrame(operator_counts_list)\n",
    "    \n",
    "    combined_df = pd.merge(p, operator_counts_df, on=\"Tree\")\n",
    "\n",
    "    combined_df_no_tree = combined_df.drop(columns=['Tree'])\n",
    "    p = p.drop(columns=['Tree'])\n",
    "    \n",
    "    correlation_matrix = combined_df_no_tree.corr().loc[operator_columns, p.columns]\n",
    "    \n",
    "    return correlation_matrix"
   ]
  },
  {
   "cell_type": "markdown",
   "metadata": {},
   "source": [
    "In order to print the results, we need to run the following code:"
   ]
  },
  {
   "cell_type": "code",
   "execution_count": 9,
   "metadata": {},
   "outputs": [
    {
     "name": "stdout",
     "output_type": "stream",
     "text": [
      "                                                                                spec                                                                    npv                                                                 prec                                                                 mcc                                                                  acc                                                                   s                                                                   dor\n",
      "change_gate_type    (0.01564999332098381, -0.07831741463253027, 0.10961740127449789)     (-0.015185280950645402, -0.11100815842241343, 0.08063759652112262)  (-0.0007851345740623378, -0.09492389961051434, 0.09335363046238968)  (-0.0007698993292721181, -0.08608291609630943, 0.0845431174377652)   (-0.014342514586721197, -0.10447992775810619, 0.07579489858466379)  (0.056377395858926746, -0.008574937147252437, 0.12132972886510593)       (-0.02612080848527178, -0.172788200984232, 0.12054658401368844)\n",
      "connect_be             (0.18227645685075203, 0.08980746937277705, 0.274745444328727)  (-0.0036608241828713682, -0.059552999881767175, 0.052231351516024434)       (0.18414122258317983, 0.10491029726729735, 0.2633721478990623)    (0.14941271876229018, 0.048604544767722066, 0.25022089275685827)   (0.056865317064515974, -0.012175838585512508, 0.12590647271454447)   (-0.18890050037739053, -0.23338779624265166, -0.1444132045121294)        (0.05930973562378454, 0.03023643868652678, 0.0883830325610423)\n",
      "create_be            (-0.27606129581864686, -0.344085263030651, -0.2080373286066427)         (-0.1669773798936372, -0.222132572341844, -0.1118221874454304)    (-0.24440525676965646, -0.3105376246751732, -0.17827288886413975)     (-0.3029660940801952, -0.3434321730488417, -0.2625000151115487)     (-0.25988269019933985, -0.2982585188901855, -0.2215068615084942)      (0.46787948556480075, 0.39407952588021006, 0.5416794452493915)    (-0.12604385422175443, -0.18462965656133912, -0.06745805188216975)\n",
      "create_gate        (0.055967175972359916, 0.018912629399921874, 0.09302172254479796)         (0.1032647349851551, 0.08789469041277442, 0.11863477955753576)  (0.006203787476253738, -0.025602854764884483, 0.038010429717391964)     (0.10113383873592949, 0.07021644277196551, 0.13205123469989347)      (0.11075159199210242, 0.09326958386722702, 0.12823360011697782)  (-0.07285437415628121, -0.12592622003054701, -0.01978252828201541)     (-0.005777677241743095, -0.06339295663584249, 0.0518376021523563)\n",
      "cross_over          (0.10313744688827946, 0.032033870322860064, 0.17424102345369885)       (0.03662564519495426, -0.06625400746870541, 0.13950529785861393)      (0.10121120316210745, 0.039792063898228806, 0.1626303424259861)     (0.1136786879000707, -0.004577413290142426, 0.2319347890902838)     (0.07162494368006525, -0.04568539236220236, 0.18893527972233287)   (-0.15394870850284334, -0.2055007023947183, -0.10239671461096839)  (0.0015125975117866487, -0.040448705439544694, 0.043473900463117984)\n",
      "delete_be             (0.07640874569782886, 0.0436499693160716, 0.10916752207958613)         (0.13780577167547453, 0.06991590759420947, 0.2056956357567396)    (0.02729707858955156, 0.005525621769240645, 0.049068535409862474)     (0.13310272597502695, 0.08673332677889384, 0.17947212517116007)      (0.15361187329152584, 0.08692811088911254, 0.22029563569393915)    (-0.2622084210218299, -0.3104836675131787, -0.21393317453048108)   (0.0028211724857284256, -0.059130942324777065, 0.06477328729623391)\n",
      "delete_gate           (0.18336675090478768, 0.11717287487846355, 0.2495606269311118)      (-0.016896264484395813, -0.08511845517216432, 0.0513259262033727)         (0.18750733242651407, 0.13092870519033, 0.24408595966269814)      (0.1416430888824492, 0.035626743164226496, 0.2476594346006719)      (0.0445732625150222, -0.033015721958832685, 0.1221622469888771)  (-0.17401305480379714, -0.21694178420481863, -0.13108432540277565)      (0.061493360287128374, 0.03930468571674543, 0.08368203485751131)\n",
      "disconnect_be      (-0.012727025820365289, -0.12568627219353978, 0.1002322205528092)        (0.09940684722394641, 0.05423138440406405, 0.14458231004382877)   (-0.054153161072083345, -0.16697498790199902, 0.05866866575783233)  (0.060839476520194155, -0.022172505259131448, 0.14385145829951976)     (0.08856804108728102, 0.016676451659905556, 0.16045963051465648)    (0.06464866274553036, -0.13955754485177332, 0.26885487034283406)      (-0.07567856885878242, -0.1998478946292599, 0.04849075691169505)\n",
      "move_be           (0.007359471846475512, -0.026571237635313022, 0.04129018132826405)     (-0.07501965194707802, -0.1351458704222768, -0.014893433471879235)   (0.024691855663789643, -0.009154244332227949, 0.05853795565980724)  (-0.004967943717109668, -0.07229158323249127, 0.06235569579827194)  (-0.07089474818509564, -0.12745289277187305, -0.014336603598318232)     (0.23734475829657037, 0.14382412684897236, 0.33086538974416835)  (-0.08167615711734218, -0.16171661898244086, -0.0016356952522434964)\n"
     ]
    }
   ],
   "source": [
    "# Write the folder with the dataframes. \n",
    "# The dataframes should be in the format of the ones saved by the learn_ft.py script\n",
    "# The default folder, where the required data frames for this test are saved, is: saved_data_frames/d_and_p_dataset\n",
    "folder_path = '..\\\\saved_data_frames\\\\d_and_p_dataset\\\\COVID_19'\n",
    "\n",
    "file_list = os.listdir(folder_path)\n",
    "dataframes = []\n",
    "filename = os.path.basename(os.path.normpath(folder_path))\n",
    "\n",
    "for directory in file_list:\n",
    "    temp_path = os.path.join(folder_path, directory)\n",
    "    temp_file_list = os.listdir(temp_path)\n",
    "    temp_dataframes = []\n",
    "    for file_name in temp_file_list:\n",
    "        if file_name.endswith('.pkl'):\n",
    "            file_path = os.path.join(temp_path, file_name)\n",
    "            df = pd.read_pickle(file_path)\n",
    "            temp_dataframes.append(df)\n",
    "    dataframes.append(temp_dataframes)\n",
    "\n",
    "matrices = []\n",
    "\n",
    "for i in range(len(dataframes)):\n",
    "    d = dataframes[i][0]\n",
    "    p = dataframes[i][1]\n",
    "    matrices.append(coefficient(d, p))\n",
    "    \n",
    "concat_df = pd.concat(matrices, axis=0, keys=range(len(matrices)))\n",
    "\n",
    "mean_df = concat_df.groupby(level=1).mean()\n",
    "\n",
    "std_df = concat_df.groupby(level=1).std()\n",
    "\n",
    "se_df = std_df / np.sqrt(len(dataframes))\n",
    "\n",
    "t_value = t.ppf(1-0.025, df=len(dataframes)-1)\n",
    "\n",
    "margin_of_error_df = se_df * t_value\n",
    "\n",
    "lower_bound_df = mean_df - margin_of_error_df\n",
    "upper_bound_df = mean_df + margin_of_error_df\n",
    "\n",
    "summary_df = mean_df.copy()\n",
    "for col in mean_df.columns:\n",
    "    summary_df[col] = list(zip(mean_df[col], lower_bound_df[col], upper_bound_df[col]))\n",
    "\n",
    "print(summary_df.to_string())\n"
   ]
  }
 ],
 "metadata": {
  "kernelspec": {
   "display_name": "Python 3",
   "language": "python",
   "name": "python3"
  },
  "language_info": {
   "codemirror_mode": {
    "name": "ipython",
    "version": 3
   },
   "file_extension": ".py",
   "mimetype": "text/x-python",
   "name": "python",
   "nbconvert_exporter": "python",
   "pygments_lexer": "ipython3",
   "version": "3.12.0"
  }
 },
 "nbformat": 4,
 "nbformat_minor": 2
}
